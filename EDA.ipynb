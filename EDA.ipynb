{
 "cells": [
  {
   "cell_type": "code",
   "execution_count": 7,
   "metadata": {},
   "outputs": [],
   "source": [
    "#importamos las librerias\n",
    "import pandas as pd"
   ]
  },
  {
   "cell_type": "code",
   "execution_count": 15,
   "metadata": {},
   "outputs": [
    {
     "name": "stdout",
     "output_type": "stream",
     "text": [
      "    Año  Trimestre Mbps (Media de bajada)    Trimestre.1\n",
      "0  2022          3                  62,46  Jul-Sept 2022\n",
      "1  2022          2                  58,44   Abr-Jun 2022\n",
      "2  2022          1                  55,11   Ene-Mar 2022\n",
      "3  2021          4                  52,34   Oct-Dic 2021\n",
      "4  2021          3                  48,46  Jul-Sept 2021\n",
      "    Año  Trimestre       ADSL Cablemodem Fibra óptica  Wireless    Otros  \\\n",
      "0  2022          3  1.395.277  6.031.970    2.871.541   557.110  235.230   \n",
      "1  2022          2  1.468.333  5.979.214    2.723.285   556.243  231.609   \n",
      "2  2022          1  1.533.240  6.073.426    2.219.533   545.814  251.996   \n",
      "3  2021          4  1.657.615  5.984.240    2.072.236   523.107  252.596   \n",
      "4  2021          3  1.950.631  5.826.257    1.566.048   492.415  250.190   \n",
      "\n",
      "        Total        Periodo  \n",
      "0  11.091.128  Jul-Sept 2022  \n",
      "1  10.958.684   Abr-Jun 2022  \n",
      "2  10.624.009   Ene-Mar 2022  \n",
      "3  10.489.794   Oct-Dic 2021  \n",
      "4  10.085.541  Jul-Sept 2021  \n",
      "    Año  Trimestre        Provincia Banda ancha fija Dial up      Total\n",
      "0  2022          3     Buenos Aires        4.715.469   6.199  4.721.668\n",
      "1  2022          3  Capital Federal        1.545.534   2.145  1.547.679\n",
      "2  2022          3        Catamarca           70.292       1     70.293\n",
      "3  2022          3            Chaco          144.141       5    144.146\n",
      "4  2022          3           Chubut          164.874     904    165.778\n",
      "    Año  Trimestre Ingresos (miles de pesos)        Periodo\n",
      "0  2022          3                67.055.930  Jul-Sept 2022\n",
      "1  2022          2                60.335.724   Abr-Jun 2022\n",
      "2  2022          1                55.589.997   Ene-Mar 2022\n",
      "3  2021          4                45.467.887   Oct-Dic 2021\n",
      "4  2021          3                42.999.944  Jul-Sept 2021\n",
      "    Año  Trimestre        Provincia Accesos por cada 100 hogares\n",
      "0  2022          3     Buenos Aires                        78,11\n",
      "1  2022          3  Capital Federal                       122,28\n",
      "2  2022          3        Catamarca                        65,33\n",
      "3  2022          3            Chaco                        43,86\n",
      "4  2022          3           Chubut                        84,38\n"
     ]
    }
   ],
   "source": [
    "#convertimos nuestros dataset a dataframe\n",
    "historico = pd.read_csv('historico_velocidad_internet.csv')\n",
    "tecnologiaAcceso = pd.read_csv('Internet_Accesos-por-tecnologia.csv')\n",
    "baf = pd.read_csv('Internet_BAF.csv')\n",
    "ingresos = pd.read_csv('Internet_Ingresos.csv')\n",
    "penetracion = pd.read_csv('Internet_Penetracion.csv')\n",
    "\n",
    "#imprimimos los primeros 5 registros de cada dataframe\n",
    "print(historico.head())\n",
    "print(tecnologiaAcceso.head())\n",
    "print(baf.head())\n",
    "print(ingresos.head())\n",
    "print(penetracion.head())\n"
   ]
  },
  {
   "cell_type": "code",
   "execution_count": null,
   "metadata": {},
   "outputs": [],
   "source": []
  }
 ],
 "metadata": {
  "kernelspec": {
   "display_name": "Python 3",
   "language": "python",
   "name": "python3"
  },
  "language_info": {
   "codemirror_mode": {
    "name": "ipython",
    "version": 3
   },
   "file_extension": ".py",
   "mimetype": "text/x-python",
   "name": "python",
   "nbconvert_exporter": "python",
   "pygments_lexer": "ipython3",
   "version": "3.11.4"
  },
  "orig_nbformat": 4
 },
 "nbformat": 4,
 "nbformat_minor": 2
}
